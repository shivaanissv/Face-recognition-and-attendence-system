{
 "cells": [
  {
   "cell_type": "code",
   "execution_count": null,
   "id": "9c9184ce",
   "metadata": {},
   "outputs": [],
   "source": [
    "import cv2\n",
    "import numpy as np\n",
    "import face_recognition\n",
    "import os\n",
    "from datetime import datetime"
   ]
  },
  {
   "cell_type": "code",
   "execution_count": 2,
   "id": "1f535357",
   "metadata": {},
   "outputs": [
    {
     "name": "stdout",
     "output_type": "stream",
     "text": [
      "['Billgates.jpg', 'charmi.jpg', 'Elonmusk.jpg', 'Jungkook.jpg']\n",
      "['Billgates', 'charmi', 'Elonmusk', 'Jungkook']\n"
     ]
    }
   ],
   "source": [
    "path = 'C:/Users/user/OneDrive/Desktop/Face recognision/Images'\n",
    "images = []\n",
    "classNames = []\n",
    "myList = os.listdir(path)\n",
    "print(myList)\n",
    "for cl in myList:\n",
    "    curImg = cv2.imread(f'{path}/{cl}')\n",
    "    images.append(curImg)\n",
    "    classNames.append(os.path.splitext(cl)[0])\n",
    "print(classNames)"
   ]
  },
  {
   "cell_type": "code",
   "execution_count": 3,
   "id": "50a42fa5",
   "metadata": {},
   "outputs": [],
   "source": [
    "def findEncodings(images):\n",
    "    encodeList = []\n",
    "\n",
    "\n",
    "    for img in images:\n",
    "        img = cv2.cvtColor(img, cv2.COLOR_BGR2RGB)\n",
    "        encode = face_recognition.face_encodings(img)[0]\n",
    "        encodeList.append(encode)\n",
    "    return encodeList"
   ]
  },
  {
   "cell_type": "code",
   "execution_count": null,
   "id": "62b170e4",
   "metadata": {},
   "outputs": [],
   "source": [
    "def markAttendance(name):\n",
    "    with open('C:/Users/user/OneDrive/Desktop/Face recognision/Attendance .csv', 'r+') as f:\n",
    "        myDataList = f.readlines()\n",
    "\n",
    "        nameList = []\n",
    "        isMarked = False\n",
    "        for line in myDataList:\n",
    "            entry = line.split(',')\n",
    "            if len(entry) > 1:\n",
    "                nameList.append(entry[0])\n",
    "                if name == entry[0]:\n",
    "                    lastMarkedDate = datetime.strptime(entry[1].strip(), \"%m/%d/%Y\")\n",
    "                    if lastMarkedDate.date() == datetime.today().date():\n",
    "                        print(f\"{name} attendance already marked today at {lastMarkedDate.strftime('%m/%d/%Y %H:%M:%S')}\")\n",
    "                        isMarked = True\n",
    "                        break\n",
    "                        \n",
    "            if not isMarked:\n",
    "            now = datetime.now()\n",
    "            dtString = now.strftime(\"%m/%d/%Y,%H:%M:%S\")\n",
    "            if name not in nameList:\n",
    "                f.writelines(f'\\n{name},{dtString}')\n",
    "            else:\n",
    "                for i, line in enumerate(myDataList):\n",
    "                    entry = line.split(',')\n",
    "                    if entry[0] == name:\n",
    "                        myDataList[i] = f\"{entry[0]},{dtString}\\n\"\n",
    "                        f.seek(0)\n",
    "                        f.writelines(myDataList)\n",
    "                        f.truncate()\n",
    "                        break\n",
    "\n",
    "            print(f\"{name} attendance marked at {dtString}\")\n",
    "                        "
   ]
  },
  {
   "cell_type": "code",
   "execution_count": 5,
   "id": "d1e3e400",
   "metadata": {},
   "outputs": [
    {
     "name": "stdout",
     "output_type": "stream",
     "text": [
      "Encoding Complete\n"
     ]
    }
   ],
   "source": [
    "encodeListKnown = findEncodings(images)\n",
    "print('Encoding Complete')"
   ]
  },
  {
   "cell_type": "code",
   "execution_count": 6,
   "id": "af42c674",
   "metadata": {},
   "outputs": [],
   "source": [
    "cap = cv2.VideoCapture(0)"
   ]
  },
  {
   "cell_type": "code",
   "execution_count": null,
   "id": "e78e9ee4",
   "metadata": {},
   "outputs": [],
   "source": [
    "while True:\n",
    "    success, img = cap.read()\n",
    "\n",
    "    imgS = cv2.resize(img, (0, 0), None, 0.25, 0.25)\n",
    "    imgS = cv2.cvtColor(imgS, cv2.COLOR_BGR2RGB)\n",
    "\n",
    "    facesCurFrame = face_recognition.face_locations(imgS)\n",
    "    encodesCurFrame = face_recognition.face_encodings(imgS, facesCurFrame)\n",
    "\n",
    "    for encodeFace, faceLoc in zip(encodesCurFrame, facesCurFrame):\n",
    "        matches = face_recognition.compare_faces(encodeListKnown, encodeFace)\n",
    "        faceDis = face_recognition.face_distance(encodeListKnown, encodeFace)\n",
    "\n",
    "        matchIndex = np.argmin(faceDis)\n",
    "\n",
    "        if matches[matchIndex]:\n",
    "            name = classNames[matchIndex].upper()\n",
    "\n",
    "            y1, x2, y2, x1 = faceLoc\n",
    "            y1, x2, y2, x1 = y1 * 4, x2 * 4, y2 * 4, x1 * 4\n",
    "            cv2.rectangle(img, (x1, y1), (x2, y2), (0, 255, 0), 2)\n",
    "            cv2.rectangle(img, (x1, y2 - 35), (x2, y2), (0, 255, 0), cv2.FILLED)\n",
    "            cv2.putText(img, name, (x1 + 6, y2 - 6), cv2.FONT_HERSHEY_COMPLEX, 1, (255, 255, 255), 2)\n",
    "            markAttendance(name)\n",
    "        else:\n",
    "            name = \"Unknown\"\n",
    "\n",
    "            y1, x2, y2, x1 = faceLoc\n",
    "            y1, x2, y2, x1 = y1 * 4, x2 * 4, y2 * 4, x1 * 4\n",
    "            cv2.rectangle(img, (x1, y1), (x2,\n",
    "\n",
    "\n",
    "\n",
    "\n"
   ]
  },
  {
   "cell_type": "code",
   "execution_count": null,
   "id": "cd5c6008",
   "metadata": {},
   "outputs": [],
   "source": []
  }
 ],
 "metadata": {
  "kernelspec": {
   "display_name": "Python 3 (ipykernel)",
   "language": "python",
   "name": "python3"
  },
  "language_info": {
   "codemirror_mode": {
    "name": "ipython",
    "version": 3
   },
   "file_extension": ".py",
   "mimetype": "text/x-python",
   "name": "python",
   "nbconvert_exporter": "python",
   "pygments_lexer": "ipython3",
   "version": "3.9.7"
  }
 },
 "nbformat": 4,
 "nbformat_minor": 5
}
